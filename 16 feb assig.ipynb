{
 "cells": [
  {
   "cell_type": "code",
   "execution_count": null,
   "id": "3fd0c373-f8b1-44ec-9bfa-e2c6bf007523",
   "metadata": {},
   "outputs": [],
   "source": [
    "A database is a structured collection of data, typically stored electronically in a computer system. It is designed to store and retrieve data quickly and efficiently.\n",
    "\n",
    "\n",
    "SQL (Structured Query Language) databases are relational databases that use structured query language (SQL) for defining and manipulating data. They are organized into tables, fields, and records. SQL databases are used for storing and managing data in an organized manner.\n",
    "\n",
    "\n",
    "NoSQL (Not Only SQL) databases are non-relational databases that do not use structured query language (SQL). These databases are used for storing large amounts of unstructured data and can be used for applications such as web-scale databases, document stores, key-value stores, graph databases, and more. NoSQL databases are often more flexible than SQL databases and can scale easily to meet the needs of large applications."
   ]
  },
  {
   "cell_type": "code",
   "execution_count": null,
   "id": "44acb267-9afd-4c78-8501-d658459f6a55",
   "metadata": {},
   "outputs": [],
   "source": [
    "DDL stands for Data Definition Language. It is a language used to define the structure of a database. It is used to create, modify, and delete database objects such as tables, views, indexes, and users.\n",
    "\n",
    "\n",
    "CREATE is used to create a new database object such as a table or view. For example: CREATE TABLE customers (id INT PRIMARY KEY, name VARCHAR(50));\n",
    "\n",
    "\n",
    "DROP is used to delete an existing database object such as a table or view. For example: DROP TABLE customers;\n",
    "\n",
    "\n",
    "ALTER is used to modify an existing database object such as a table or view. For example: ALTER TABLE customers ADD address VARCHAR(100);\n",
    "\n",
    "\n",
    "TRUNCATE is used to delete all the data from an existing table. For example: TRUNCATE TABLE customers;"
   ]
  },
  {
   "cell_type": "code",
   "execution_count": null,
   "id": "6ce12a52-41ca-429d-94e4-ee3bd3da529a",
   "metadata": {},
   "outputs": [],
   "source": [
    "DML stands for Data Manipulation Language. It is used to manipulate data in a database.\n",
    "\n",
    "\n",
    "INSERT: This statement is used to add new records to a table. For example, if we want to add a new student record to a table called “students”, we can use the following statement:\n",
    "\n",
    "\n",
    "INSERT INTO students (name, age, gender) VALUES ('John', 20, 'M');\n",
    "\n",
    "\n",
    "UPDATE: This statement is used to modify existing records in a table. For example, if we want to update the age of the student John to 21, we can use the following statement:\n",
    "\n",
    "\n",
    "UPDATE students SET age = 21 WHERE name = 'John';\n",
    "\n",
    "\n",
    "DELETE: This statement is used to delete existing records from a table. For example, if we want to delete the student John from the table, we can use the following statement:\n",
    "\n",
    "\n",
    "DELETE FROM students WHERE name = 'John';"
   ]
  },
  {
   "cell_type": "code",
   "execution_count": null,
   "id": "3ce30087-f016-46bb-aefb-413f3aba441b",
   "metadata": {},
   "outputs": [],
   "source": [
    "DQL stands for Data Query Language. It is a language used to query data from a database. SELECT is the most commonly used DQL command, which is used to retrieve data from a database.\n",
    "\n",
    "\n",
    "For example, if you wanted to retrieve all the records from the \"Customers\" table, you could use the following SELECT statement:\n",
    "\n",
    "\n",
    "SELECT * FROM Customers;\n",
    "\n",
    "\n",
    "This statement would return all the records from the Customers table."
   ]
  },
  {
   "cell_type": "code",
   "execution_count": null,
   "id": "93e02350-5abd-41d3-8da2-cfbfaafef877",
   "metadata": {},
   "outputs": [],
   "source": [
    "A primary key is a field in a table which uniquely identifies each row/record in a database table. Primary keys must contain unique values and cannot be null. A foreign key is a field in a table that is used to establish a link between two tables. It acts as a cross-reference between the two tables and is used to identify the relationship between them. A foreign key in one table points to a primary key in another table."
   ]
  },
  {
   "cell_type": "code",
   "execution_count": null,
   "id": "a8655d8e-60b7-4a29-a2f4-09852ca68a57",
   "metadata": {},
   "outputs": [],
   "source": [
    "#Connecting MySQL to Python\n",
    "\n",
    "\n",
    "import mysql.connector\n",
    "\n",
    "\n",
    "Create a connection object\n",
    "\n",
    "\n",
    "myconn = mysql.connector.connect(host=\"localhost\", user=\"root\", passwd=\"password\")\n",
    "\n",
    "\n",
    "Creating a cursor object\n",
    "\n",
    "\n",
    "cur = myconn.cursor()\n",
    "\n",
    "\n",
    "Executing the SQL query\n",
    "\n",
    "\n",
    "cur.execute(\"SELECT * FROM Student\")\n",
    "\n",
    "\n",
    "Fetching all the records from the cursor object\n",
    "\n",
    "\n",
    "result = cur.fetchall()\n",
    "\n",
    "\n",
    "Printing the result\n",
    "\n",
    "\n",
    "print(result)\n",
    "\n",
    "\n",
    "#Cursor() Method:\n",
    "\n",
    "The cursor() method is used to create a cursor object which is used to execute SQL commands. The cursor object is used to traverse through the records from the result set. The cursor object can also be used to fetch limited number of rows from the result set.\n",
    "\n",
    "\n",
    "#Execute() Method:\n",
    "\n",
    "The execute() method is used to execute an SQL query. It takes an SQL query as an argument and executes it. It returns a number of rows affected by the query."
   ]
  },
  {
   "cell_type": "code",
   "execution_count": null,
   "id": "f6b6cfd2-b961-4425-aa3e-09ef3bb74271",
   "metadata": {},
   "outputs": [],
   "source": [
    "FROM\n",
    "WHERE\n",
    "GROUP BY\n",
    "HAVING\n",
    "SELECT\n",
    "ORDER BY\n",
    "LIMIT"
   ]
  }
 ],
 "metadata": {
  "kernelspec": {
   "display_name": "Python 3 (ipykernel)",
   "language": "python",
   "name": "python3"
  },
  "language_info": {
   "codemirror_mode": {
    "name": "ipython",
    "version": 3
   },
   "file_extension": ".py",
   "mimetype": "text/x-python",
   "name": "python",
   "nbconvert_exporter": "python",
   "pygments_lexer": "ipython3",
   "version": "3.10.8"
  }
 },
 "nbformat": 4,
 "nbformat_minor": 5
}
